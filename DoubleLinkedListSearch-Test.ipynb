{
 "cells": [
  {
   "cell_type": "code",
   "execution_count": 19,
   "id": "alert-liquid",
   "metadata": {},
   "outputs": [
    {
     "name": "stdout",
     "output_type": "stream",
     "text": [
      "Node(5) <-> Node(10) <-> Node(1) <-> Node(7) <-> Node(8) <-> Node(2)\n",
      "head: Node(5)\n",
      "tail: Node(2)\n"
     ]
    }
   ],
   "source": [
    "class Node:\n",
    "    def __init__(self, value, before=None, after=None):\n",
    "        self.value = value\n",
    "        self.before = before\n",
    "        self.after = after\n",
    "    \n",
    "    def __repr__(self):\n",
    "        return f'Node({self.value})'\n",
    "    \n",
    "    def __eq__(self, other):\n",
    "        return self.value == other.value\n",
    "\n",
    "    \n",
    "\n",
    "class DoubleLinkedList:\n",
    "    def __init__(self):\n",
    "        self.head = None\n",
    "        self.tail = None\n",
    "       \n",
    "    @property\n",
    "    def nodes(self):\n",
    "        node_list = []\n",
    "        current_node = self.head\n",
    "        tail = None\n",
    "        while current_node:\n",
    "            node_list.append(current_node)\n",
    "            current_node = current_node.after\n",
    "            if current_node:\n",
    "                tail = current_node\n",
    "        return node_list\n",
    "    \n",
    "    def __repr__(self):\n",
    "        return ' <-> '.join(repr(n) for n in self.nodes)\n",
    "    \n",
    "    def append(self, value):\n",
    "        if len(self.nodes) == 0:\n",
    "            self.head = Node(value)\n",
    "            self.tail = self.head\n",
    "        else:\n",
    "            self.tail.after = Node(value, before=self.tail)\n",
    "            self.tail = self.tail.after\n",
    "            \n",
    "\n",
    "\n",
    "dll = DoubleLinkedList()\n",
    "dll.append(5)\n",
    "dll.append(10)\n",
    "dll.append(1)\n",
    "dll.append(7)\n",
    "dll.append(8)\n",
    "dll.append(2)\n",
    "\n",
    "print(dll)\n",
    "print('head:', dll.head)\n",
    "print('tail:', dll.tail)"
   ]
  },
  {
   "cell_type": "code",
   "execution_count": 20,
   "id": "satellite-disclosure",
   "metadata": {},
   "outputs": [],
   "source": [
    "def search(dll_) -> list:\n",
    "    p1 = dll_.head\n",
    "    p2 = dll_.tail\n",
    "    \n",
    "    while True:\n",
    "        if p1 == p2:\n",
    "            return p1\n",
    "        elif p1.after == p2:\n",
    "            return [p1, p2]\n",
    "#         elif p1.before.before == p2:\n",
    "#             raise ValueError('went too far')\n",
    "        \n",
    "        p1 = p1.after\n",
    "        p2 = p2.before\n"
   ]
  },
  {
   "cell_type": "code",
   "execution_count": 21,
   "id": "281b0dec",
   "metadata": {},
   "outputs": [
    {
     "data": {
      "text/plain": [
       "[Node(1), Node(7)]"
      ]
     },
     "execution_count": 21,
     "metadata": {},
     "output_type": "execute_result"
    }
   ],
   "source": [
    "search(dll)"
   ]
  },
  {
   "cell_type": "code",
   "execution_count": 22,
   "id": "dece682d",
   "metadata": {},
   "outputs": [],
   "source": [
    "assert search(dll) == [Node(1), Node(7)]"
   ]
  },
  {
   "cell_type": "code",
   "execution_count": 23,
   "id": "95132510",
   "metadata": {},
   "outputs": [
    {
     "data": {
      "text/plain": [
       "Node(1)"
      ]
     },
     "execution_count": 23,
     "metadata": {},
     "output_type": "execute_result"
    }
   ],
   "source": [
    "dll = DoubleLinkedList()\n",
    "dll.append(5)\n",
    "dll.append(10)\n",
    "dll.append(1)\n",
    "dll.append(8)\n",
    "dll.append(2)\n",
    "search(dll)"
   ]
  },
  {
   "cell_type": "code",
   "execution_count": null,
   "id": "098f58f7",
   "metadata": {},
   "outputs": [],
   "source": []
  }
 ],
 "metadata": {
  "kernelspec": {
   "display_name": "Python 3 (ipykernel)",
   "language": "python",
   "name": "python3"
  },
  "language_info": {
   "codemirror_mode": {
    "name": "ipython",
    "version": 3
   },
   "file_extension": ".py",
   "mimetype": "text/x-python",
   "name": "python",
   "nbconvert_exporter": "python",
   "pygments_lexer": "ipython3",
   "version": "3.9.7"
  }
 },
 "nbformat": 4,
 "nbformat_minor": 5
}

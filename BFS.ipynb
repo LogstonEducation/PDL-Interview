{
 "cells": [
  {
   "cell_type": "code",
   "execution_count": 6,
   "metadata": {},
   "outputs": [
    {
     "data": {
      "text/plain": [
       "Node(5)"
      ]
     },
     "execution_count": 6,
     "metadata": {},
     "output_type": "execute_result"
    }
   ],
   "source": [
    "class Node:\n",
    "    def __init__(self, value, left=None, right=None):\n",
    "        self.value = value\n",
    "        self.left = left\n",
    "        self.right = right\n",
    "    \n",
    "    def __repr__(self):\n",
    "        return f'Node({self.value})'\n",
    "\n",
    "#         5\n",
    "#     3       10\n",
    "#  1    4   7     15\n",
    "\n",
    "root = Node(\n",
    "    5,\n",
    "    left=Node(\n",
    "        3, \n",
    "        left=Node(1), \n",
    "        right=Node(4)\n",
    "    ),\n",
    "    right=Node(\n",
    "        10, \n",
    "        left=Node(7), \n",
    "        right=Node(15)\n",
    "    )\n",
    ")\n",
    "\n",
    "root\n",
    "# We want: 5, 3, 10, 1, 4, 7, 15"
   ]
  },
  {
   "cell_type": "code",
   "execution_count": 8,
   "metadata": {},
   "outputs": [],
   "source": [
    "def breadth_first_search_print(root) -> list:\n",
    "    queue = [root]\n",
    "    return_list = []\n",
    "    while queue:\n",
    "        node = queue.pop(0)\n",
    "\n",
    "        if node.left:\n",
    "            queue.append(node.left)\n",
    "        \n",
    "        if node.right:\n",
    "            queue.append(node.right)\n",
    "        \n",
    "        return_list.append(node)\n",
    "    \n",
    "    return return_list"
   ]
  },
  {
   "cell_type": "code",
   "execution_count": 9,
   "metadata": {},
   "outputs": [
    {
     "data": {
      "text/plain": [
       "[Node(5), Node(3), Node(10), Node(1), Node(4), Node(7), Node(15)]"
      ]
     },
     "execution_count": 9,
     "metadata": {},
     "output_type": "execute_result"
    }
   ],
   "source": [
    "breadth_first_search_print(root)"
   ]
  }
 ],
 "metadata": {
  "kernelspec": {
   "display_name": "Python 3",
   "language": "python",
   "name": "python3"
  },
  "language_info": {
   "codemirror_mode": {
    "name": "ipython",
    "version": 3
   },
   "file_extension": ".py",
   "mimetype": "text/x-python",
   "name": "python",
   "nbconvert_exporter": "python",
   "pygments_lexer": "ipython3",
   "version": "3.7.6"
  }
 },
 "nbformat": 4,
 "nbformat_minor": 4
}

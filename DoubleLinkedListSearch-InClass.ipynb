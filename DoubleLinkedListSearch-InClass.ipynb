{
 "cells": [
  {
   "cell_type": "code",
   "execution_count": 1,
   "id": "alert-liquid",
   "metadata": {},
   "outputs": [
    {
     "name": "stdout",
     "output_type": "stream",
     "text": [
      "Node(5) <-> Node(10) <-> Node(1) <-> Node(7) <-> Node(8) <-> Node(2)\n",
      "head: Node(5)\n",
      "tail: Node(2)\n"
     ]
    }
   ],
   "source": [
    "class Node:\n",
    "    def __init__(self, value, before=None, after=None):\n",
    "        self.value = value\n",
    "        self.before = before\n",
    "        self.after = after\n",
    "    \n",
    "    def __repr__(self):\n",
    "        return f'Node({self.value})'\n",
    "    \n",
    "    def __eq__(self, other):\n",
    "        return self.value == other.value\n",
    "\n",
    "    \n",
    "\n",
    "class DoubleLinkedList:\n",
    "    def __init__(self):\n",
    "        self.head = None\n",
    "        self.tail = None\n",
    "       \n",
    "    @property\n",
    "    def nodes(self):\n",
    "        node_list = []\n",
    "        current_node = self.head\n",
    "        tail = None\n",
    "        while current_node:\n",
    "            node_list.append(current_node)\n",
    "            current_node = current_node.after\n",
    "            if current_node:\n",
    "                tail = current_node\n",
    "        return node_list\n",
    "    \n",
    "    def __repr__(self):\n",
    "        return ' <-> '.join(repr(n) for n in self.nodes)\n",
    "    \n",
    "    def append(self, value):\n",
    "        if len(self.nodes) == 0:\n",
    "            self.head = Node(value)\n",
    "            self.tail = self.head\n",
    "        else:\n",
    "            self.tail.after = Node(value, before=self.tail)\n",
    "            self.tail = self.tail.after\n",
    "            \n",
    "\n",
    "\n",
    "dll = DoubleLinkedList()\n",
    "dll.append(5)\n",
    "dll.append(10)\n",
    "dll.append(1)\n",
    "dll.append(7)\n",
    "dll.append(8)\n",
    "dll.append(2)\n",
    "\n",
    "print(dll)\n",
    "print('head:', dll.head)\n",
    "print('tail:', dll.tail)"
   ]
  },
  {
   "cell_type": "code",
   "execution_count": 2,
   "id": "satellite-disclosure",
   "metadata": {},
   "outputs": [],
   "source": [
    "def get_middle_nodes(dll_) -> list:\n",
    "    return []"
   ]
  },
  {
   "cell_type": "code",
   "execution_count": 3,
   "id": "281b0dec",
   "metadata": {},
   "outputs": [
    {
     "data": {
      "text/plain": [
       "[]"
      ]
     },
     "execution_count": 3,
     "metadata": {},
     "output_type": "execute_result"
    }
   ],
   "source": [
    "get_middle_nodes(dll)"
   ]
  },
  {
   "cell_type": "code",
   "execution_count": 4,
   "id": "dece682d",
   "metadata": {},
   "outputs": [
    {
     "ename": "AssertionError",
     "evalue": "",
     "output_type": "error",
     "traceback": [
      "\u001b[0;31m---------------------------------------------------------------------------\u001b[0m",
      "\u001b[0;31mAssertionError\u001b[0m                            Traceback (most recent call last)",
      "Cell \u001b[0;32mIn[4], line 1\u001b[0m\n\u001b[0;32m----> 1\u001b[0m \u001b[38;5;28;01massert\u001b[39;00m get_middle_nodes(dll) \u001b[38;5;241m==\u001b[39m [Node(\u001b[38;5;241m1\u001b[39m), Node(\u001b[38;5;241m7\u001b[39m)]\n",
      "\u001b[0;31mAssertionError\u001b[0m: "
     ]
    }
   ],
   "source": [
    "assert get_middle_nodes(dll) == [Node(1), Node(7)]"
   ]
  },
  {
   "cell_type": "code",
   "execution_count": 5,
   "id": "95132510",
   "metadata": {},
   "outputs": [
    {
     "name": "stdout",
     "output_type": "stream",
     "text": [
      "Node(5) <-> Node(10) <-> Node(1) <-> Node(8) <-> Node(2)\n"
     ]
    },
    {
     "data": {
      "text/plain": [
       "[]"
      ]
     },
     "execution_count": 5,
     "metadata": {},
     "output_type": "execute_result"
    }
   ],
   "source": [
    "dll = DoubleLinkedList()\n",
    "dll.append(5)\n",
    "dll.append(10)\n",
    "dll.append(1)\n",
    "dll.append(8)\n",
    "dll.append(2)\n",
    "print(dll)\n",
    "\n",
    "get_middle_nodes(dll)"
   ]
  }
 ],
 "metadata": {
  "kernelspec": {
   "display_name": "Python 3 (ipykernel)",
   "language": "python",
   "name": "python3"
  },
  "language_info": {
   "codemirror_mode": {
    "name": "ipython",
    "version": 3
   },
   "file_extension": ".py",
   "mimetype": "text/x-python",
   "name": "python",
   "nbconvert_exporter": "python",
   "pygments_lexer": "ipython3",
   "version": "3.11.4"
  }
 },
 "nbformat": 4,
 "nbformat_minor": 5
}

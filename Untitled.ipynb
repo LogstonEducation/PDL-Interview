{
 "cells": [
  {
   "cell_type": "code",
   "execution_count": 2,
   "metadata": {},
   "outputs": [
    {
     "data": {
      "text/plain": [
       "Node(5)"
      ]
     },
     "execution_count": 2,
     "metadata": {},
     "output_type": "execute_result"
    }
   ],
   "source": [
    "class Node:\n",
    "    def __init__(self, value, left=None, right=None):\n",
    "        self.value = value\n",
    "        self.left = left\n",
    "        self.right = right\n",
    "    \n",
    "    def __repr__(self):\n",
    "        return f'Node({self.value})'\n",
    "\n",
    "#         5\n",
    "#     3       10\n",
    "#  1    4   7     15\n",
    "\n",
    "root = Node(\n",
    "    5,\n",
    "    left=Node(\n",
    "        3,\n",
    "        left=Node(1), \n",
    "        right=Node(4)\n",
    "    ),\n",
    "    right=Node(\n",
    "        10, \n",
    "        left=Node(7), \n",
    "        right=Node(15)\n",
    "    )\n",
    ")\n",
    "\n",
    "root\n",
    "# We want: [Node(5), 3, 10, 1, 4, 7, 15]"
   ]
  },
  {
   "cell_type": "code",
   "execution_count": 4,
   "metadata": {},
   "outputs": [],
   "source": [
    "def bredth_first_search_print(root) -> list:  # O(e) + O(v) \n",
    "    queue = [root] # O(1)\n",
    "    \n",
    "    return_list = []  # O(1)\n",
    "\n",
    "    while queue:  # O(n)\n",
    "        node = queue.pop(0)  # O(1)\n",
    "        \n",
    "        return_list.append(node)  # O(1)\n",
    "        \n",
    "        if node.left: # O(1)\n",
    "            queue.append(node.left) # O(2) -> O(1)\n",
    "            \n",
    "        if node.right: # O(1)\n",
    "            queue.append(node.right) # O(1)\n",
    "    \n",
    "    return return_list # O(1)"
   ]
  },
  {
   "cell_type": "code",
   "execution_count": 5,
   "metadata": {},
   "outputs": [
    {
     "data": {
      "text/plain": [
       "[Node(5), Node(3), Node(10), Node(1), Node(4), Node(7), Node(15)]"
      ]
     },
     "execution_count": 5,
     "metadata": {},
     "output_type": "execute_result"
    }
   ],
   "source": [
    "bredth_first_search_print(root)"
   ]
  },
  {
   "cell_type": "code",
   "execution_count": 8,
   "metadata": {},
   "outputs": [],
   "source": [
    "assert list(n.value for n in bredth_first_search_print(root)) == [5, 3, 10, 1, 4, 7, 15]"
   ]
  }
 ],
 "metadata": {
  "kernelspec": {
   "display_name": "Python 3",
   "language": "python",
   "name": "python3"
  },
  "language_info": {
   "codemirror_mode": {
    "name": "ipython",
    "version": 3
   },
   "file_extension": ".py",
   "mimetype": "text/x-python",
   "name": "python",
   "nbconvert_exporter": "python",
   "pygments_lexer": "ipython3",
   "version": "3.7.6"
  }
 },
 "nbformat": 4,
 "nbformat_minor": 4
}

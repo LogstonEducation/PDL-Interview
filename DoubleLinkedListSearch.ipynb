{
 "cells": [
  {
   "cell_type": "code",
   "execution_count": null,
   "id": "baking-foster",
   "metadata": {},
   "outputs": [],
   "source": []
  },
  {
   "cell_type": "code",
   "execution_count": 7,
   "id": "alert-liquid",
   "metadata": {},
   "outputs": [
    {
     "name": "stdout",
     "output_type": "stream",
     "text": [
      "Node(5) <-> Node(10) <-> Node(1) <-> Node(7) <-> Node(8) <-> Node(2)\n",
      "head: Node(5)\n",
      "tail: Node(2)\n"
     ]
    }
   ],
   "source": [
    "class Node:\n",
    "    def __init__(self, value, before=None, after=None):\n",
    "        self.value = value\n",
    "        self.before = before\n",
    "        self.after = after\n",
    "    \n",
    "    def __repr__(self):\n",
    "        return f'Node({self.value})'\n",
    "\n",
    "\n",
    "\n",
    "HEAD = Node(\n",
    "    5,\n",
    "    before=None,\n",
    "    after=Node(\n",
    "        10, \n",
    "        before=None,\n",
    "        after=Node(\n",
    "            1, \n",
    "            before=None,\n",
    "            after=Node(\n",
    "                7, \n",
    "                before=None,\n",
    "                after=Node(\n",
    "                    8, \n",
    "                    before=None,\n",
    "                    after=Node(\n",
    "                        2, \n",
    "                        before=None,\n",
    "                        after=None,\n",
    "                    )\n",
    "                )\n",
    "            )\n",
    "        )\n",
    "    )\n",
    ")\n",
    "\n",
    "# Complete the list\n",
    "current_node = HEAD\n",
    "next_node = current_node.after\n",
    "while next_node:  \n",
    "    next_node.before = current_node\n",
    "    current_node = next_node\n",
    "    next_node = current_node.after\n",
    "\n",
    "\n",
    "nodes = []\n",
    "current_node = HEAD\n",
    "TAIL = None\n",
    "while current_node:\n",
    "    nodes.append(repr(current_node))\n",
    "    current_node = current_node.after\n",
    "    if current_node:\n",
    "        TAIL = current_node\n",
    "\n",
    "print(' <-> '.join(nodes))\n",
    "print('head:', HEAD)\n",
    "print('tail:', TAIL)"
   ]
  },
  {
   "cell_type": "code",
   "execution_count": 5,
   "id": "satellite-disclosure",
   "metadata": {},
   "outputs": [
    {
     "name": "stdout",
     "output_type": "stream",
     "text": [
      "Node(5) Node(2)\n",
      "Node(10) Node(8)\n",
      "Node(1) Node(7)\n"
     ]
    },
    {
     "data": {
      "text/plain": [
       "[Node(1), Node(7)]"
      ]
     },
     "execution_count": 5,
     "metadata": {},
     "output_type": "execute_result"
    }
   ],
   "source": [
    "def get_middle_nodes(head: Node, tail: Node) -> []:\n",
    "    p1 = head\n",
    "    p2 = tail\n",
    "    while p1 and p2:\n",
    "        if p1 == p2:\n",
    "            return [p1]\n",
    "        elif p1.after == p2:\n",
    "            return [p1, p2]\n",
    "        else:\n",
    "            p1 = p1.after\n",
    "            p2 = p2.before\n",
    "\n",
    "get_middle_nodes(HEAD, TAIL)"
   ]
  },
  {
   "cell_type": "code",
   "execution_count": null,
   "id": "electric-accounting",
   "metadata": {},
   "outputs": [],
   "source": []
  }
 ],
 "metadata": {
  "kernelspec": {
   "display_name": "Python 3",
   "language": "python",
   "name": "python3"
  },
  "language_info": {
   "codemirror_mode": {
    "name": "ipython",
    "version": 3
   },
   "file_extension": ".py",
   "mimetype": "text/x-python",
   "name": "python",
   "nbconvert_exporter": "python",
   "pygments_lexer": "ipython3",
   "version": "3.8.3"
  }
 },
 "nbformat": 4,
 "nbformat_minor": 5
}

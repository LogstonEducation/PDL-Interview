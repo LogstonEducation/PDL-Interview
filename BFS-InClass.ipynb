{
 "cells": [
  {
   "cell_type": "code",
   "execution_count": 7,
   "metadata": {},
   "outputs": [
    {
     "data": {
      "text/plain": [
       "5"
      ]
     },
     "execution_count": 7,
     "metadata": {},
     "output_type": "execute_result"
    }
   ],
   "source": [
    "#         5\n",
    "#     3       10\n",
    "#  1    4   7     15\n",
    "\n",
    "# We want: [Node(5), 3, 10, 1, 4, 7, 15]\n",
    "\n",
    "# BFS\n",
    "\n",
    "\n",
    "class Node:\n",
    "    def __init__(self, value, left=None, right=None):\n",
    "        self.value = value\n",
    "        self.left = left\n",
    "        self.right = right\n",
    "    \n",
    "    def __repr__(self):\n",
    "        return f'{self.value}'\n",
    "\n",
    "\n",
    "assert repr(Node(4)) == '4'\n",
    "\n",
    "root = Node(\n",
    "    5,\n",
    "    left=Node(\n",
    "        3,\n",
    "        left=Node(1), \n",
    "        right=Node(4)\n",
    "    ),\n",
    "    right=Node(\n",
    "        10, \n",
    "        left=Node(7), \n",
    "        right=Node(15)\n",
    "    )\n",
    ")\n",
    "\n",
    "root"
   ]
  },
  {
   "cell_type": "code",
   "execution_count": 10,
   "metadata": {},
   "outputs": [],
   "source": [
    "def bredth_first_search_print(root) -> list:\n",
    "    ret_list = []\n",
    "    queue = [root]\n",
    "    \n",
    "    while queue:\n",
    "        node = queue.pop(0)\n",
    "        \n",
    "        ret_list.append(node)\n",
    "        \n",
    "        if node.left:\n",
    "            queue.append(node.left)\n",
    "        if node.right:\n",
    "            queue.append(node.right)\n",
    "\n",
    "    return ret_list"
   ]
  },
  {
   "cell_type": "code",
   "execution_count": 13,
   "metadata": {},
   "outputs": [],
   "source": [
    "assert list(n.value for n in bredth_first_search_print(root)) == [5, 3, 10, 1, 4, 7, 15]"
   ]
  },
  {
   "cell_type": "code",
   "execution_count": 18,
   "metadata": {},
   "outputs": [],
   "source": [
    "bredth_first_search_print(root)"
   ]
  },
  {
   "cell_type": "code",
   "execution_count": null,
   "metadata": {},
   "outputs": [],
   "source": []
  }
 ],
 "metadata": {
  "kernelspec": {
   "display_name": "Python 3 (ipykernel)",
   "language": "python",
   "name": "python3"
  },
  "language_info": {
   "codemirror_mode": {
    "name": "ipython",
    "version": 3
   },
   "file_extension": ".py",
   "mimetype": "text/x-python",
   "name": "python",
   "nbconvert_exporter": "python",
   "pygments_lexer": "ipython3",
   "version": "3.9.7"
  }
 },
 "nbformat": 4,
 "nbformat_minor": 4
}

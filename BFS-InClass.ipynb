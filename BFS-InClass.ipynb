{
 "cells": [
  {
   "cell_type": "code",
   "execution_count": 4,
   "metadata": {},
   "outputs": [
    {
     "data": {
      "text/plain": [
       "5"
      ]
     },
     "execution_count": 4,
     "metadata": {},
     "output_type": "execute_result"
    }
   ],
   "source": [
    "#         5\n",
    "#     3       10\n",
    "#  1    4   7     15\n",
    "\n",
    "\n",
    "# We want: [Node(5), 3, 10, 1, 4, 7, 15]\n",
    "\n",
    "\n",
    "class Node:\n",
    "    def __init__(self, value, left=None, right=None):\n",
    "        self.value = value\n",
    "        self.left = left\n",
    "        self.right = right\n",
    "    \n",
    "    def __repr__(self):\n",
    "        return f'{self.value}'\n",
    "\n",
    "assert repr(Node(4)) == '4'\n",
    "\n",
    "root = Node(\n",
    "    5,\n",
    "    left=Node(\n",
    "        3,\n",
    "        left=Node(1), \n",
    "        right=Node(4),\n",
    "    ),\n",
    "    right=Node(\n",
    "        10, \n",
    "        left=Node(7), \n",
    "        right=Node(15),\n",
    "    )\n",
    ")\n",
    "\n",
    "root"
   ]
  },
  {
   "cell_type": "code",
   "execution_count": null,
   "metadata": {},
   "outputs": [],
   "source": [
    "# What should the output be? Printed? Returned?\n",
    "# What time complexity are you looking for?\n",
    "# What optimizations should we employ?\n",
    "# What are the constraints? \n",
    "# How should null cases be handled? Error, or just return None?\n",
    "# Networkx (3rd-party library), ABC, bisect (bin search), can use? \n",
    "\n",
    "\n",
    "# INTERVIEWER\n",
    "# Can you walk me through the code that you want write?\n",
    "\n",
    "# Interviewee\n",
    "# "
   ]
  },
  {
   "cell_type": "code",
   "execution_count": 27,
   "metadata": {},
   "outputs": [],
   "source": [
    "def nodes_by_layer(root) -> list:\n",
    "    result = []\n",
    "\n",
    "    if root is None:\n",
    "        return []\n",
    "\n",
    "    queue = [root]\n",
    "\n",
    "    while queue:\n",
    "        item = queue.pop(0)\n",
    "    \n",
    "        # print(item)\n",
    "\n",
    "        if item.left:\n",
    "            queue.append(item.left)\n",
    "\n",
    "        if item.right:\n",
    "            queue.append(item.right)\n",
    "\n",
    "        result.append(item)\n",
    "    \n",
    "    return result"
   ]
  },
  {
   "cell_type": "code",
   "execution_count": 34,
   "metadata": {},
   "outputs": [],
   "source": [
    "ret_val = nodes_by_layer(root)\n",
    "assert [n.value for n in ret_val] == [5, 3, 10, 1, 4, 7, 15], ret_val\n",
    "\n",
    "assert nodes_by_layer(None) == []\n",
    "\n",
    "ret_val = nodes_by_layer(Node(75))\n",
    "assert [n.value for n in ret_val] == [75]"
   ]
  },
  {
   "cell_type": "code",
   "execution_count": 29,
   "metadata": {},
   "outputs": [
    {
     "data": {
      "text/plain": [
       "[5, 3, 10, 1, 4, 7, 15]"
      ]
     },
     "execution_count": 29,
     "metadata": {},
     "output_type": "execute_result"
    }
   ],
   "source": [
    "nodes_by_layer(root)"
   ]
  },
  {
   "cell_type": "code",
   "execution_count": null,
   "metadata": {},
   "outputs": [],
   "source": []
  },
  {
   "cell_type": "code",
   "execution_count": 10,
   "metadata": {},
   "outputs": [
    {
     "ename": "KeyboardInterrupt",
     "evalue": "",
     "output_type": "error",
     "traceback": [
      "\u001b[0;31m---------------------------------------------------------------------------\u001b[0m",
      "\u001b[0;31mKeyboardInterrupt\u001b[0m                         Traceback (most recent call last)",
      "Cell \u001b[0;32mIn[10], line 4\u001b[0m\n\u001b[1;32m      1\u001b[0m data \u001b[38;5;241m=\u001b[39m [\u001b[38;5;241m1\u001b[39m]\n\u001b[1;32m      3\u001b[0m \u001b[38;5;28;01mfor\u001b[39;00m i, item \u001b[38;5;129;01min\u001b[39;00m \u001b[38;5;28menumerate\u001b[39m(data):\n\u001b[0;32m----> 4\u001b[0m     data\u001b[38;5;241m.\u001b[39mappend(i)\n",
      "\u001b[0;31mKeyboardInterrupt\u001b[0m: "
     ]
    }
   ],
   "source": [
    "data = [1]\n",
    "\n",
    "for i, item in enumerate(data):\n",
    "    data.append(i)"
   ]
  },
  {
   "cell_type": "code",
   "execution_count": null,
   "metadata": {},
   "outputs": [],
   "source": []
  }
 ],
 "metadata": {
  "kernelspec": {
   "display_name": "Python 3 (ipykernel)",
   "language": "python",
   "name": "python3"
  },
  "language_info": {
   "codemirror_mode": {
    "name": "ipython",
    "version": 3
   },
   "file_extension": ".py",
   "mimetype": "text/x-python",
   "name": "python",
   "nbconvert_exporter": "python",
   "pygments_lexer": "ipython3",
   "version": "3.11.4"
  }
 },
 "nbformat": 4,
 "nbformat_minor": 4
}
